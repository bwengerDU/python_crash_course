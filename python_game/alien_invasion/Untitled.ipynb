{
 "cells": [
  {
   "cell_type": "code",
   "execution_count": null,
   "id": "5183b3a0",
   "metadata": {},
   "outputs": [],
   "source": [
    "# Create an empty Pygame window, class to represent the game\n",
    "import sys\n",
    "\n",
    "import pygame \n",
    "\n",
    "class AlienInvasion():\n",
    "    \"\"\"Overall class to manage game assets and behavior\"\"\"\n",
    "\n",
    "    def __init__(self):\n",
    "        \"\"\"Initialize the game, create game resources.\"\"\"\n",
    "        pygame.init()\n",
    "\n",
    "        self.screen = pygame.display.set_mode((1200, 800))\n",
    "        pygame.display.set_caption(\"Alien Invasion\")\n",
    "\n",
    "    def run_game(self):\n",
    "        \"\"\"Start the main loop for the game\"\"\"\n",
    "        while True:\n",
    "            # Watch for keyboard and mouse events.\n",
    "            for event in pygame.event.get():\n",
    "                if event.type == pygame.QUIT:\n",
    "                    sys.exit()\n",
    "            # Make the most recently drawn screen visible\n",
    "            pygame.display.flip()\n",
    "if __name__ == '__main__':\n",
    "    # Make a game instance, and run the game\n",
    "    ai = AlienInvasion()\n",
    "    ai.run_game()"
   ]
  },
  {
   "cell_type": "code",
   "execution_count": null,
   "id": "ff40a0d5",
   "metadata": {},
   "outputs": [],
   "source": [
    "quit"
   ]
  },
  {
   "cell_type": "code",
   "execution_count": null,
   "id": "8ecea792",
   "metadata": {},
   "outputs": [],
   "source": []
  }
 ],
 "metadata": {
  "kernelspec": {
   "display_name": "PythonData",
   "language": "python",
   "name": "pythondata"
  },
  "language_info": {
   "codemirror_mode": {
    "name": "ipython",
    "version": 3
   },
   "file_extension": ".py",
   "mimetype": "text/x-python",
   "name": "python",
   "nbconvert_exporter": "python",
   "pygments_lexer": "ipython3",
   "version": "3.7.11"
  }
 },
 "nbformat": 4,
 "nbformat_minor": 5
}
